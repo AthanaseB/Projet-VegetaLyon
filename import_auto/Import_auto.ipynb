{
 "cells": [
  {
   "cell_type": "markdown",
   "id": "8248b497",
   "metadata": {},
   "source": [
    "# Automatisation de l'Importation - Notebook"
   ]
  },
  {
   "cell_type": "markdown",
   "id": "91ff4bba",
   "metadata": {},
   "source": [
    "## I - Importation des modules"
   ]
  },
  {
   "cell_type": "code",
   "execution_count": 22,
   "id": "26706585",
   "metadata": {},
   "outputs": [],
   "source": [
    "import json\n",
    "from shapely import geometry\n",
    "import pandas as pd\n",
    "import geopandas"
   ]
  },
  {
   "cell_type": "markdown",
   "id": "85582d6e",
   "metadata": {},
   "source": [
    "## II - Création des fonctions d'importation"
   ]
  },
  {
   "cell_type": "markdown",
   "id": "92e374a5",
   "metadata": {},
   "source": [
    "Lecteur:\n",
    "Prend en entrée le chemin d'accès à un fichier Json, en le convertie en dictionnaire python."
   ]
  },
  {
   "cell_type": "code",
   "execution_count": 3,
   "id": "82b479f0",
   "metadata": {},
   "outputs": [],
   "source": [
    "def lecteur(path):\n",
    "    ''' Ouvre un fichier json en dictionnaire'''\n",
    "    with open(path, 'r',encoding=\"utf-8\") as file:\n",
    "        gsv = json.load(file)\n",
    "    file.close\n",
    "    return(gsv)"
   ]
  },
  {
   "cell_type": "markdown",
   "id": "c9236607",
   "metadata": {},
   "source": [
    "Deplieur_1:\n",
    "Prend en entrée un dictionnaire Python issue d'un Json, et le \"déplie\". Dans tous les fichiers Json rencontrés, les données exploitables étaient contenues dans la clé \"features\" du dictionnaire. On renvoie ici seulement les éléments de la clé \"features\", si celle-ci existe, et on ne change rien si cette clé n'éxiste pas."
   ]
  },
  {
   "cell_type": "code",
   "execution_count": 5,
   "id": "7efb7051",
   "metadata": {},
   "outputs": [],
   "source": [
    "def deplieur_1(gsv):\n",
    "    '''Déplie la première étape'''\n",
    "    is_features = False\n",
    "    for cle, valeur in gsv.items():\n",
    "        if cle == 'features':\n",
    "            is_features = True\n",
    "    if is_features:\n",
    "        return(gsv['features'])\n",
    "    else:\n",
    "        return(gsv)"
   ]
  },
  {
   "cell_type": "markdown",
   "id": "7bf33418",
   "metadata": {},
   "source": [
    "Deplieur_2: Prend en entrée un dictionnaire une première fois. Souvent, une fois la clé \"features\", les données sont stockées dans les clés \"properties\" et \"geometry\". On vient donc, si ces clés existent, déplier encore une fois les données."
   ]
  },
  {
   "cell_type": "code",
   "execution_count": 6,
   "id": "4be2dfd8",
   "metadata": {},
   "outputs": [],
   "source": [
    "def deplieur_2(gsv):\n",
    "    '''Déplie la deuxième étape'''\n",
    "    #On regarde si dans le schéma il y a properties et geometry\n",
    "    is_prop = False\n",
    "    is_geom = False\n",
    "    for cle, valeur in gsv[0].items():\n",
    "        if cle == 'properties':\n",
    "            is_prop = True\n",
    "        if cle == 'geometry':\n",
    "            is_geom = True\n",
    "    \n",
    "    if is_prop and is_geom:\n",
    "        tab = []\n",
    "        i=0\n",
    "        for row in gsv:\n",
    "            i=i+1\n",
    "            #print(i)\n",
    "            is_prop = False\n",
    "            is_geom = False\n",
    "            for cle, valeur in row.items():\n",
    "                if cle == 'properties':\n",
    "                    is_prop = True\n",
    "                if cle == 'geometry':\n",
    "                    is_geom = True\n",
    "                    if row['geometry'] == None:\n",
    "                        is_geom = False\n",
    "            if is_prop and is_geom:\n",
    "                dic = {}\n",
    "                for cle, valeur in row['properties'].items():\n",
    "                    dic[cle] = valeur\n",
    "                    type_geom = row['geometry']['type']\n",
    "                    if type_geom == 'Point':\n",
    "                        geom = geometry.Point(row['geometry']['coordinates'])\n",
    "                    elif type_geom == 'Polygon':\n",
    "                        geom = geometry.Polygon(row['geometry']['coordinates'][0])\n",
    "                    elif type_geom == 'MultiPolygon':\n",
    "                        geom = geometry.Polygon(row['geometry']['coordinates'][0][0])\n",
    "                    dic['geometry'] = geom\n",
    "                tab.append(dic)\n",
    "        return(tab)"
   ]
  },
  {
   "cell_type": "markdown",
   "id": "ff3043b0",
   "metadata": {},
   "source": [
    "## III - Création des fonctions de transformation"
   ]
  },
  {
   "cell_type": "markdown",
   "id": "05f718a2",
   "metadata": {},
   "source": [
    "#### /!\\ Ces fonctions doivent être adaptées aux données considérées /!\\"
   ]
  },
  {
   "cell_type": "markdown",
   "id": "b80ca1fc",
   "metadata": {},
   "source": [
    "Arbre_to_gdf: /!\\ Ces fonctions sont amenées à être modifiées en fonction des éléments compris dans les fichiers Json traités.\n",
    "Cette fonction prend en entrée un dictionnaire contenant les données des arbres, et renvoie un GeoDataFrame comprenant les données nécessaires au calcul des ombres : ID, hauteur, rayon, et géométrie."
   ]
  },
  {
   "cell_type": "code",
   "execution_count": 23,
   "id": "473821b1",
   "metadata": {},
   "outputs": [],
   "source": [
    "def arbre_to_gdf(gsv):\n",
    "    '''Transorme un dictionnaire en GeoDataFrame'''\n",
    "    tab = []\n",
    "    for i in range(0, len(gsv)):\n",
    "        geom = gsv[i]['geometry']\n",
    "        rayon = gsv[i]['rayoncouronne_m']\n",
    "        hauteurtotale = gsv[i]['hauteurtotale_m']\n",
    "        tab.append({'index': i,'hauteur': hauteurtotale,'rayon': rayon, 'geometry': geom})\n",
    "    df = pd.DataFrame(tab)\n",
    "    gdf = geopandas.GeoDataFrame(df, crs=4171)\n",
    "    gdf = gdf.to_crs(2154)\n",
    "    return(gdf)"
   ]
  },
  {
   "cell_type": "markdown",
   "id": "76daa03c",
   "metadata": {},
   "source": [
    "Building_to_gdf: /!\\ Ces fonctions sont amenées à être modifiées en fonction des éléments compris dans les fichiers Json traités. Cette fonction prend en entrée un dictionnaire contenant les données des buildings, et renvoie un GeoDataFrame comprenant les données nécessaires au calcul des ombres : ID, hauteur et géométrie."
   ]
  },
  {
   "cell_type": "code",
   "execution_count": 24,
   "id": "a411292e",
   "metadata": {},
   "outputs": [],
   "source": [
    "def building_to_gdf(gsv):\n",
    "    '''Transorme un dictionnaire en GeoDataFrame'''\n",
    "    tab = []\n",
    "    for i in range(0, len(gsv)):\n",
    "        geom = gsv[i]['geometry']\n",
    "        htotale = gsv[i]['htotale']\n",
    "        tab.append({'index': i,'hauteur': htotale, 'geometry': geom})\n",
    "    df = pd.DataFrame(tab)\n",
    "    gdf = geopandas.GeoDataFrame(df, crs=4171)\n",
    "    gdf = gdf.to_crs(2154)\n",
    "    return(gdf)"
   ]
  },
  {
   "cell_type": "markdown",
   "id": "bc3dca3b",
   "metadata": {},
   "source": [
    "path_to_gdf: fonction complète. Prend en entrée les 2 chemins d'accès aux fichiers Json des arbres et des bâtiments, et renvoie deux GeoDataFrame formatés."
   ]
  },
  {
   "cell_type": "code",
   "execution_count": 9,
   "id": "b320366b",
   "metadata": {},
   "outputs": [],
   "source": [
    "def path_to_gdf(path_arbre, path_building):\n",
    "    gsv_arbre = lecteur(path_arbre)\n",
    "    gsv_arbre = deplieur_1(gsv_arbre)\n",
    "    gsv_arbre = deplieur_2(gsv_arbre)\n",
    "    \n",
    "    gsv_building = lecteur(path_building)\n",
    "    gsv_building = deplieur_1(gsv_building)\n",
    "    gsv_building = deplieur_2(gsv_building)\n",
    "    \n",
    "    gdf_arbre = arbre_to_gdf(gsv_arbre)\n",
    "    gdf_building = building_to_gdf(gsv_building)\n",
    "    return(gdf_arbre, gdf_building)"
   ]
  },
  {
   "cell_type": "markdown",
   "id": "b1c4e04d",
   "metadata": {},
   "source": [
    "## IV - Tests"
   ]
  },
  {
   "cell_type": "markdown",
   "id": "04692311",
   "metadata": {},
   "source": [
    "Chemin d'accès aux fichiers Json comprenant les données nécessaires.\n",
    "[Insérez vos propres chemins d'accès]"
   ]
  },
  {
   "cell_type": "code",
   "execution_count": 15,
   "id": "77358c89",
   "metadata": {},
   "outputs": [],
   "source": [
    "path_arbres = \"C:/Users/meder/Documents/Etudes/EC Nantes/EI3/P1/Automatisation de l'importation/data_short/arbre_villeurbanne.json\"\n",
    "path_buildings = \"C:/Users/meder/Documents/Etudes/EC Nantes/EI3/P1/Automatisation de l'importation/data_short/building_first_100.json\""
   ]
  },
  {
   "cell_type": "markdown",
   "id": "2de5c57c",
   "metadata": {},
   "source": [
    "On applique les fonctions d'importation"
   ]
  },
  {
   "cell_type": "code",
   "execution_count": 18,
   "id": "89ce017d",
   "metadata": {},
   "outputs": [],
   "source": [
    "[gdf_arbres , gdf_buildings] = path_to_gdf(path_arbres,path_buildings)"
   ]
  },
  {
   "cell_type": "code",
   "execution_count": 19,
   "id": "0064c74c",
   "metadata": {},
   "outputs": [
    {
     "data": {
      "text/html": [
       "<div>\n",
       "<style scoped>\n",
       "    .dataframe tbody tr th:only-of-type {\n",
       "        vertical-align: middle;\n",
       "    }\n",
       "\n",
       "    .dataframe tbody tr th {\n",
       "        vertical-align: top;\n",
       "    }\n",
       "\n",
       "    .dataframe thead th {\n",
       "        text-align: right;\n",
       "    }\n",
       "</style>\n",
       "<table border=\"1\" class=\"dataframe\">\n",
       "  <thead>\n",
       "    <tr style=\"text-align: right;\">\n",
       "      <th></th>\n",
       "      <th>index</th>\n",
       "      <th>hauteur</th>\n",
       "      <th>rayon</th>\n",
       "      <th>geometry</th>\n",
       "    </tr>\n",
       "  </thead>\n",
       "  <tbody>\n",
       "    <tr>\n",
       "      <th>0</th>\n",
       "      <td>0</td>\n",
       "      <td>13</td>\n",
       "      <td>4.0</td>\n",
       "      <td>POINT (845278.924 6521633.532)</td>\n",
       "    </tr>\n",
       "    <tr>\n",
       "      <th>1</th>\n",
       "      <td>1</td>\n",
       "      <td>9</td>\n",
       "      <td>3.0</td>\n",
       "      <td>POINT (844457.880 6521405.529)</td>\n",
       "    </tr>\n",
       "    <tr>\n",
       "      <th>2</th>\n",
       "      <td>2</td>\n",
       "      <td>14</td>\n",
       "      <td>2.5</td>\n",
       "      <td>POINT (845131.459 6521200.974)</td>\n",
       "    </tr>\n",
       "    <tr>\n",
       "      <th>3</th>\n",
       "      <td>3</td>\n",
       "      <td>17</td>\n",
       "      <td>6.0</td>\n",
       "      <td>POINT (844928.974 6521661.839)</td>\n",
       "    </tr>\n",
       "    <tr>\n",
       "      <th>4</th>\n",
       "      <td>4</td>\n",
       "      <td>6</td>\n",
       "      <td>1.0</td>\n",
       "      <td>POINT (846110.420 6519398.880)</td>\n",
       "    </tr>\n",
       "  </tbody>\n",
       "</table>\n",
       "</div>"
      ],
      "text/plain": [
       "   index  hauteur  rayon                        geometry\n",
       "0      0       13    4.0  POINT (845278.924 6521633.532)\n",
       "1      1        9    3.0  POINT (844457.880 6521405.529)\n",
       "2      2       14    2.5  POINT (845131.459 6521200.974)\n",
       "3      3       17    6.0  POINT (844928.974 6521661.839)\n",
       "4      4        6    1.0  POINT (846110.420 6519398.880)"
      ]
     },
     "execution_count": 19,
     "metadata": {},
     "output_type": "execute_result"
    }
   ],
   "source": [
    "gdf_arbres.head()"
   ]
  },
  {
   "cell_type": "code",
   "execution_count": 20,
   "id": "1f9fe093",
   "metadata": {},
   "outputs": [
    {
     "data": {
      "text/html": [
       "<div>\n",
       "<style scoped>\n",
       "    .dataframe tbody tr th:only-of-type {\n",
       "        vertical-align: middle;\n",
       "    }\n",
       "\n",
       "    .dataframe tbody tr th {\n",
       "        vertical-align: top;\n",
       "    }\n",
       "\n",
       "    .dataframe thead th {\n",
       "        text-align: right;\n",
       "    }\n",
       "</style>\n",
       "<table border=\"1\" class=\"dataframe\">\n",
       "  <thead>\n",
       "    <tr style=\"text-align: right;\">\n",
       "      <th></th>\n",
       "      <th>index</th>\n",
       "      <th>hauteur</th>\n",
       "      <th>geometry</th>\n",
       "    </tr>\n",
       "  </thead>\n",
       "  <tbody>\n",
       "    <tr>\n",
       "      <th>0</th>\n",
       "      <td>0</td>\n",
       "      <td>3.4</td>\n",
       "      <td>POLYGON Z ((855159.722 6513444.392 221.537, 85...</td>\n",
       "    </tr>\n",
       "    <tr>\n",
       "      <th>1</th>\n",
       "      <td>1</td>\n",
       "      <td>2.5</td>\n",
       "      <td>POLYGON Z ((854945.566 6514323.736 218.425, 85...</td>\n",
       "    </tr>\n",
       "    <tr>\n",
       "      <th>2</th>\n",
       "      <td>2</td>\n",
       "      <td>2.5</td>\n",
       "      <td>POLYGON Z ((854943.451 6514324.722 218.425, 85...</td>\n",
       "    </tr>\n",
       "    <tr>\n",
       "      <th>3</th>\n",
       "      <td>3</td>\n",
       "      <td>5.3</td>\n",
       "      <td>POLYGON Z ((854979.496 6514247.819 218.720, 85...</td>\n",
       "    </tr>\n",
       "    <tr>\n",
       "      <th>4</th>\n",
       "      <td>4</td>\n",
       "      <td>9.6</td>\n",
       "      <td>POLYGON Z ((852354.118 6514406.654 213.114, 85...</td>\n",
       "    </tr>\n",
       "  </tbody>\n",
       "</table>\n",
       "</div>"
      ],
      "text/plain": [
       "   index  hauteur                                           geometry\n",
       "0      0      3.4  POLYGON Z ((855159.722 6513444.392 221.537, 85...\n",
       "1      1      2.5  POLYGON Z ((854945.566 6514323.736 218.425, 85...\n",
       "2      2      2.5  POLYGON Z ((854943.451 6514324.722 218.425, 85...\n",
       "3      3      5.3  POLYGON Z ((854979.496 6514247.819 218.720, 85...\n",
       "4      4      9.6  POLYGON Z ((852354.118 6514406.654 213.114, 85..."
      ]
     },
     "execution_count": 20,
     "metadata": {},
     "output_type": "execute_result"
    }
   ],
   "source": [
    "gdf_buildings.head()"
   ]
  }
 ],
 "metadata": {
  "kernelspec": {
   "display_name": "Python 3 (ipykernel)",
   "language": "python",
   "name": "python3"
  },
  "language_info": {
   "codemirror_mode": {
    "name": "ipython",
    "version": 3
   },
   "file_extension": ".py",
   "mimetype": "text/x-python",
   "name": "python",
   "nbconvert_exporter": "python",
   "pygments_lexer": "ipython3",
   "version": "3.9.7"
  }
 },
 "nbformat": 4,
 "nbformat_minor": 5
}
