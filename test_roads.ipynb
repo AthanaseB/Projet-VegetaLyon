{
 "cells": [
  {
   "cell_type": "code",
   "execution_count": 1,
   "id": "f5339a46-3040-4cfd-8c4d-46915415aec6",
   "metadata": {},
   "outputs": [],
   "source": [
    "import geopandas \n",
    "import json\n",
    "from import_data import *"
   ]
  },
  {
   "cell_type": "code",
   "execution_count": 2,
   "id": "ad59a0a4-f0e8-4e85-b101-d46f73fd5906",
   "metadata": {},
   "outputs": [],
   "source": [
    "path_arbre=\"data/arbre_villeurbanne.json\"\n",
    "path_buildings=\"data/building_first_100.json\"\n",
    "path_route=\"data/Routes_Villeurbanne.geojson\"\n",
    "arb, bati, routes=path_to_gdf(path_arbre=path_arbre, path_building=path_buildings, path_road=path_route)"
   ]
  },
  {
   "cell_type": "code",
   "execution_count": 3,
   "id": "46642d24-402d-4775-85b3-0decd5c3f6ac",
   "metadata": {},
   "outputs": [
    {
     "data": {
      "text/plain": [
       "<AxesSubplot:>"
      ]
     },
     "execution_count": 3,
     "metadata": {},
     "output_type": "execute_result"
    },
    {
     "data": {
      "image/png": "[encoded data removed]",
      "text/plain": [
       "<Figure size 432x288 with 1 Axes>"
      ]
     },
     "metadata": {
      "needs_background": "light"
     },
     "output_type": "display_data"
    }
   ],
   "source": [
    "routes.plot()"
   ]
  },
  {
   "cell_type": "code",
   "execution_count": 4,
   "id": "6291252b-cabc-4441-9d5a-54bfc8c7aa1d",
   "metadata": {},
   "outputs": [
    {
     "data": {
      "text/html": [
       "<div>\n",
       "<style scoped>\n",
       "    .dataframe tbody tr th:only-of-type {\n",
       "        vertical-align: middle;\n",
       "    }\n",
       "\n",
       "    .dataframe tbody tr th {\n",
       "        vertical-align: top;\n",
       "    }\n",
       "\n",
       "    .dataframe thead th {\n",
       "        text-align: right;\n",
       "    }\n",
       "</style>\n",
       "<table border=\"1\" class=\"dataframe\">\n",
       "  <thead>\n",
       "    <tr style=\"text-align: right;\">\n",
       "      <th></th>\n",
       "      <th>index</th>\n",
       "      <th>acc</th>\n",
       "      <th>geometry</th>\n",
       "    </tr>\n",
       "  </thead>\n",
       "  <tbody>\n",
       "    <tr>\n",
       "      <th>0</th>\n",
       "      <td>521</td>\n",
       "      <td>Libre</td>\n",
       "      <td>LINESTRING Z (845244.800 6519959.800 168.900, ...</td>\n",
       "    </tr>\n",
       "    <tr>\n",
       "      <th>1</th>\n",
       "      <td>600</td>\n",
       "      <td>Libre</td>\n",
       "      <td>LINESTRING Z (848466.100 6518980.300 185.400, ...</td>\n",
       "    </tr>\n",
       "    <tr>\n",
       "      <th>2</th>\n",
       "      <td>1007</td>\n",
       "      <td>Libre</td>\n",
       "      <td>LINESTRING Z (850332.800 6522302.700 -1000.000...</td>\n",
       "    </tr>\n",
       "    <tr>\n",
       "      <th>3</th>\n",
       "      <td>1008</td>\n",
       "      <td>Libre</td>\n",
       "      <td>LINESTRING Z (850333.300 6522312.200 -1000.000...</td>\n",
       "    </tr>\n",
       "    <tr>\n",
       "      <th>4</th>\n",
       "      <td>1016</td>\n",
       "      <td>Libre</td>\n",
       "      <td>LINESTRING Z (844308.000 6516518.800 -1000.000...</td>\n",
       "    </tr>\n",
       "  </tbody>\n",
       "</table>\n",
       "</div>"
      ],
      "text/plain": [
       "   index    acc                                           geometry\n",
       "0    521  Libre  LINESTRING Z (845244.800 6519959.800 168.900, ...\n",
       "1    600  Libre  LINESTRING Z (848466.100 6518980.300 185.400, ...\n",
       "2   1007  Libre  LINESTRING Z (850332.800 6522302.700 -1000.000...\n",
       "3   1008  Libre  LINESTRING Z (850333.300 6522312.200 -1000.000...\n",
       "4   1016  Libre  LINESTRING Z (844308.000 6516518.800 -1000.000..."
      ]
     },
     "execution_count": 4,
     "metadata": {},
     "output_type": "execute_result"
    }
   ],
   "source": [
    "routes.head()"
   ]
  },
  {
   "cell_type": "code",
   "execution_count": 5,
   "id": "d45761a5-37d1-4ead-bb99-439ed7000d10",
   "metadata": {},
   "outputs": [],
   "source": [
    "routes.to_file(\"data/routes_pieton.json\", driver=\"GeoJSON\")"
   ]
  },
  {
   "cell_type": "code",
   "execution_count": null,
   "id": "6fe6e147-f7da-4a87-baa8-ccc2c3c8da47",
   "metadata": {},
   "outputs": [],
   "source": []
  }
 ],
 "metadata": {
  "kernelspec": {
   "display_name": "Python 3 (ipykernel)",
   "language": "python",
   "name": "python3"
  },
  "language_info": {
   "codemirror_mode": {
    "name": "ipython",
    "version": 3
   },
   "file_extension": ".py",
   "mimetype": "text/x-python",
   "name": "python",
   "nbconvert_exporter": "python",
   "pygments_lexer": "ipython3",
   "version": "3.9.7"
  }
 },
 "nbformat": 4,
 "nbformat_minor": 5
}
